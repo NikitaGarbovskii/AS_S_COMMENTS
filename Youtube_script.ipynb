{
 "cells": [
  {
   "cell_type": "markdown",
   "id": "5f495498",
   "metadata": {},
   "source": [
    "### On May 15, 2024, Ubisoft presented a trailer for a new game in the Assassin's Creed franchise. As of June 26, 2024, the trailer had collected almost 9 million views and almost 90 thousand comments and was received ambiguously by the audience. Therefore, it would be interesting to study the reaction of viewers using NLP methods. "
   ]
  },
  {
   "cell_type": "markdown",
   "id": "71a3a09f",
   "metadata": {},
   "source": [
    "### Setup "
   ]
  },
  {
   "cell_type": "code",
   "execution_count": 4,
   "id": "f297ef83",
   "metadata": {},
   "outputs": [
    {
     "name": "stderr",
     "output_type": "stream",
     "text": [
      "[nltk_data] Downloading package wordnet to\n",
      "[nltk_data]     C:\\Users\\nik-g\\AppData\\Roaming\\nltk_data...\n",
      "[nltk_data]   Package wordnet is already up-to-date!\n"
     ]
    }
   ],
   "source": [
    "import pandas as pd\n",
    "import matplotlib.pyplot as plt\n",
    "import translators as ts\n",
    "from deep_translator import GoogleTranslator\n",
    "from nltk.tokenize import word_tokenize\n",
    "import re\n",
    "from bs4 import BeautifulSoup\n",
    "import contractions\n",
    "import string\n",
    "from unidecode import unidecode\n",
    "from textblob import TextBlob\n",
    "import nltk\n",
    "from nltk.corpus import stopwords\n",
    "nltk.download(\"wordnet\")\n",
    "from nltk.stem import WordNetLemmatizer\n",
    "import numpy as np\n",
    "from sklearn.model_selection import train_test_split\n",
    "from sklearn.feature_extraction.text import CountVectorizer\n",
    "from sklearn.linear_model import LogisticRegression\n",
    "from sklearn.metrics import accuracy_score\n",
    "from wordcloud import WordCloud\n",
    "import gensim.corpora as corpora"
   ]
  },
  {
   "cell_type": "markdown",
   "id": "2c69504a",
   "metadata": {},
   "source": [
    "### Download data from Youtube using Google Youtube API"
   ]
  },
  {
   "cell_type": "code",
   "execution_count": 70,
   "id": "ab26a424",
   "metadata": {},
   "outputs": [
    {
     "name": "stdout",
     "output_type": "stream",
     "text": [
      "Downloading comments\n",
      "100\n",
      "200\n",
      "300\n",
      "400\n",
      "500\n",
      "600\n",
      "700\n",
      "800\n",
      "900\n",
      "974\n",
      "Downloading replies\n",
      "1\n",
      "1\n",
      "57\n",
      "4\n",
      "1\n",
      "1\n",
      "1\n",
      "1\n",
      "1\n",
      "6\n",
      "1\n",
      "1\n",
      "4\n",
      "6\n",
      "1\n",
      "5\n",
      "1\n",
      "13\n",
      "2\n",
      "1\n",
      "1\n",
      "1\n",
      "2\n",
      "2\n",
      "2\n",
      "1\n",
      "3\n",
      "8\n",
      "1\n",
      "4\n",
      "1\n",
      "1\n",
      "2\n",
      "7\n",
      "9\n",
      "8\n",
      "3\n",
      "1\n",
      "1\n",
      "1\n",
      "1\n",
      "1\n",
      "5\n",
      "1\n",
      "1\n",
      "4\n",
      "5\n",
      "8\n",
      "8\n",
      "4\n",
      "10\n",
      "4\n",
      "3\n",
      "9\n",
      "2\n",
      "3\n",
      "3\n",
      "2\n",
      "2\n",
      "5\n",
      "13\n",
      "3\n",
      "3\n",
      "1\n",
      "2\n",
      "6\n",
      "1\n",
      "2\n",
      "4\n",
      "3\n",
      "1\n",
      "1\n",
      "1\n",
      "1\n",
      "1\n",
      "1\n",
      "5\n",
      "12\n",
      "1\n",
      "1\n",
      "1\n",
      "2\n",
      "1\n",
      "30\n",
      "15\n",
      "2\n",
      "1\n",
      "1\n",
      "1\n",
      "2\n",
      "3\n",
      "1\n",
      "1\n",
      "1\n",
      "3\n",
      "1\n",
      "1\n",
      "7\n",
      "1\n",
      "3\n",
      "1\n",
      "7\n",
      "1\n",
      "1\n",
      "43\n",
      "3\n",
      "1\n",
      "4\n",
      "17\n",
      "5\n",
      "307\n",
      "1\n",
      "7\n",
      "3\n",
      "2\n",
      "3\n",
      "1\n",
      "1\n",
      "39\n",
      "1\n",
      "1\n",
      "17\n",
      "1\n",
      "34\n",
      "1\n",
      "4\n",
      "2\n",
      "11\n",
      "5\n",
      "1\n",
      "1\n",
      "1\n",
      "2\n",
      "4\n",
      "1\n",
      "1\n",
      "21\n",
      "2\n",
      "9\n",
      "11\n",
      "8\n",
      "5\n",
      "1\n",
      "2\n",
      "1\n",
      "6\n",
      "1\n",
      "1\n",
      "7\n",
      "1\n",
      "4\n",
      "3\n",
      "1\n",
      "5\n",
      "7\n",
      "1\n",
      "2\n",
      "8\n",
      "6\n",
      "2\n",
      "56\n",
      "3\n",
      "5\n",
      "2\n",
      "5\n",
      "12\n",
      "20\n",
      "14\n",
      "6\n",
      "4\n",
      "3\n",
      "6\n",
      "12\n",
      "1\n",
      "3\n",
      "1\n",
      "2\n",
      "17\n",
      "2\n",
      "9\n",
      "1\n",
      "44\n",
      "2\n",
      "20\n",
      "1\n",
      "1\n",
      "1\n",
      "38\n",
      "5\n",
      "5\n",
      "5\n",
      "16\n",
      "17\n",
      "19\n",
      "1\n",
      "27\n",
      "31\n",
      "1457\n",
      "Opening CSV file\n",
      "Starting to write to CSV\n",
      "Writing comments to CSV\n",
      "Writing replies to CSV\n",
      "Done\n"
     ]
    }
   ],
   "source": [
    "# -*- coding: utf-8 -*-\n",
    "\n",
    "import os\n",
    "import googleapiclient.discovery\n",
    "import csv\n",
    "\n",
    "from conf import DEVELOPER_KEY, VIDEO_ID\n",
    "\n",
    "# Function to download top-level comments\n",
    "def youtube(nextPageToken=None):\n",
    "    # Disable OAuthlib's HTTPS verification when running locally.\n",
    "    # *DO NOT* leave this option enabled in production.\n",
    "    os.environ[\"OAUTHLIB_INSECURE_TRANSPORT\"] = \"1\"\n",
    "\n",
    "    api_service_name = \"youtube\"\n",
    "    api_version = \"v3\"    \n",
    "\n",
    "    youtube = googleapiclient.discovery.build(\n",
    "        api_service_name, api_version, developerKey=DEVELOPER_KEY)\n",
    "\n",
    "    request = youtube.commentThreads().list(\n",
    "        part=\"id,snippet\",\n",
    "        maxResults=100,\n",
    "        pageToken=nextPageToken,\n",
    "        videoId=VIDEO_ID\n",
    "    )\n",
    "    response = request.execute()\n",
    "    return response\n",
    "\n",
    "# Function to download replies to comments\n",
    "def youtubechild(NextParentId, nextPageToken=None):\n",
    "    # Disable OAuthlib's HTTPS verification when running locally.\n",
    "    # *DO NOT* leave this option enabled in production.\n",
    "    os.environ[\"OAUTHLIB_INSECURE_TRANSPORT\"] = \"1\"\n",
    "\n",
    "    api_service_name = \"youtube\"\n",
    "    api_version = \"v3\"\n",
    "\n",
    "    youtube = googleapiclient.discovery.build(\n",
    "        api_service_name, api_version, developerKey=DEVELOPER_KEY)\n",
    "\n",
    "    request = youtube.comments().list(\n",
    "        part=\"id,snippet\",\n",
    "        maxResults=100,\n",
    "        pageToken=nextPageToken,\n",
    "        parentId=NextParentId\n",
    "    )\n",
    "    response = request.execute()\n",
    "    return response\n",
    "\n",
    "# Main function\n",
    "def main():\n",
    "    # Download comments\n",
    "    print('Downloading comments')\n",
    "    response = youtube()\n",
    "    items = response.get(\"items\")\n",
    "    nextPageToken = response.get(\"nextPageToken\")  # downloaded in portions, each next portion is indicated by a token\n",
    "    i = 1\n",
    "    while nextPageToken is not None:\n",
    "        print(str(i * 100))  # display which hundred comments are being downloaded\n",
    "        response = youtube(nextPageToken)\n",
    "        nextPageToken = response.get(\"nextPageToken\")\n",
    "        items = items + response.get(\"items\")\n",
    "        i += 1\n",
    "\n",
    "    print(len(items))  # Display the number of downloaded comments\n",
    "\n",
    "    # Download replies to comments\n",
    "    print('Downloading replies')\n",
    "    replies = []\n",
    "    for line in items:  # Loop through top-level comments\n",
    "        if line.get(\"snippet\").get(\"totalReplyCount\") > 0:  # if there are replies\n",
    "            print(line.get(\"snippet\").get(\"totalReplyCount\"))  # display how many replies will be downloaded\n",
    "            response = youtubechild(line.get(\"snippet\").get(\"topLevelComment\").get(\"id\"))\n",
    "            replies = replies + response.get(\"items\")\n",
    "            nextPageToken = response.get(\"nextPageToken\")\n",
    "            i = 1\n",
    "            while nextPageToken is not None:  # load more replies if there are more portions\n",
    "                response = youtubechild(line.get(\"snippet\").get(\"topLevelComment\").get(\"id\"), nextPageToken)\n",
    "                nextPageToken = response.get(\"nextPageToken\")\n",
    "                replies = replies + response.get(\"items\")\n",
    "                i += 1\n",
    "\n",
    "    print(len(replies))  # Display the number of downloaded replies\n",
    "\n",
    "    # Save comments and replies to a CSV file\n",
    "    print(\"Opening CSV file\")\n",
    "    with open('youtuberesults.csv', 'w', encoding=\"utf-8\") as csv_file:  # with statement to automatically close the file after all commands\n",
    "        writer = csv.writer(csv_file, quoting=csv.QUOTE_ALL, lineterminator='\\r')  # using double quotes and comma separator, this format opens well in LibreOffice Calc\n",
    "\n",
    "        # Column headers\n",
    "        row = [\n",
    "            'etag',\n",
    "            'parentid',\n",
    "            'id',\n",
    "            'textDisplay',\n",
    "            'textOriginal',\n",
    "            'authorDisplayName',\n",
    "            'authorProfileImageUrl',\n",
    "            'authorChannelUrl',\n",
    "            'authorChannelId',\n",
    "            'likeCount',\n",
    "            'publishedAt',\n",
    "            'updatedAt'\n",
    "        ]\n",
    "        print(\"Starting to write to CSV\")  \n",
    "        writer.writerow(row)  # Write headers to the file\n",
    "    \n",
    "        # Save comments\n",
    "        print(\"Writing comments to CSV\")  \n",
    "        for line in items:\n",
    "            topLevelComment = line.get(\"snippet\").get(\"topLevelComment\")\n",
    "            # sometimes the user does not have a channel, so a separate construction for that\n",
    "            if topLevelComment.get('snippet').get('authorChannelId') is not None:\n",
    "                authorChannelId = topLevelComment.get('snippet').get('authorChannelId').get('value')\n",
    "            else:\n",
    "                authorChannelId = ''\n",
    "            row = [\n",
    "                topLevelComment.get('etag'),\n",
    "                topLevelComment.get('id'),\n",
    "                topLevelComment.get('id'),\n",
    "                topLevelComment.get('snippet').get('textDisplay'),\n",
    "                topLevelComment.get('snippet').get('textOriginal'),\n",
    "                topLevelComment.get('snippet').get('authorDisplayName'),\n",
    "                topLevelComment.get('snippet').get('authorProfileImageUrl'),\n",
    "                topLevelComment.get('snippet').get('authorChannelUrl'),\n",
    "                authorChannelId,\n",
    "                topLevelComment.get('snippet').get('likeCount'),\n",
    "                topLevelComment.get('snippet').get('publishedAt'),\n",
    "                topLevelComment.get('snippet').get('updatedAt')\n",
    "            ]\n",
    "            writer.writerow(row)\n",
    "\n",
    "        # Save replies\n",
    "        print(\"Writing replies to CSV\")  \n",
    "        for line in replies:\n",
    "            # sometimes the user does not have a channel, so a separate construction for that\n",
    "            if line.get('snippet').get('authorChannelId') is not None:\n",
    "                authorChannelId = line.get('snippet').get('authorChannelId').get('value')\n",
    "            else:\n",
    "                authorChannelId = ''\n",
    "            row = [\n",
    "                line.get('etag'),\n",
    "                line.get('snippet').get('parentId'),\n",
    "                line.get('id'),\n",
    "                line.get('snippet').get('textDisplay'),\n",
    "                line.get('snippet').get('textOriginal'),\n",
    "                line.get('snippet').get('authorDisplayName'),\n",
    "                line.get('snippet').get('authorProfileImageUrl'),\n",
    "                line.get('snippet').get('authorChannelUrl'),\n",
    "                authorChannelId,\n",
    "                line.get('snippet').get('likeCount'),\n",
    "                line.get('snippet').get('publishedAt'),\n",
    "                line.get('snippet').get('updatedAt')\n",
    "            ]\n",
    "            writer.writerow(row)\n",
    "        \n",
    "    print(\"Done\")  \n",
    "\n",
    "if __name__ == \"__main__\":\n",
    "    main()"
   ]
  },
  {
   "cell_type": "markdown",
   "id": "66fefbad",
   "metadata": {},
   "source": [
    "### Data reading"
   ]
  },
  {
   "cell_type": "code",
   "execution_count": 7,
   "id": "4ec2c793",
   "metadata": {},
   "outputs": [],
   "source": [
    "df = pd.read_csv(\"youtuberesults.csv\")"
   ]
  },
  {
   "cell_type": "code",
   "execution_count": 8,
   "id": "d8f30111",
   "metadata": {},
   "outputs": [
    {
     "data": {
      "text/html": [
       "<div>\n",
       "<style scoped>\n",
       "    .dataframe tbody tr th:only-of-type {\n",
       "        vertical-align: middle;\n",
       "    }\n",
       "\n",
       "    .dataframe tbody tr th {\n",
       "        vertical-align: top;\n",
       "    }\n",
       "\n",
       "    .dataframe thead th {\n",
       "        text-align: right;\n",
       "    }\n",
       "</style>\n",
       "<table border=\"1\" class=\"dataframe\">\n",
       "  <thead>\n",
       "    <tr style=\"text-align: right;\">\n",
       "      <th></th>\n",
       "      <th>etag</th>\n",
       "      <th>parentid</th>\n",
       "      <th>id</th>\n",
       "      <th>textDisplay</th>\n",
       "      <th>textOriginal</th>\n",
       "      <th>authorDisplayName</th>\n",
       "      <th>authorProfileImageUrl</th>\n",
       "      <th>authorChannelUrl</th>\n",
       "      <th>authorChannelId</th>\n",
       "      <th>likeCount</th>\n",
       "      <th>publishedAt</th>\n",
       "      <th>updatedAt</th>\n",
       "    </tr>\n",
       "  </thead>\n",
       "  <tbody>\n",
       "    <tr>\n",
       "      <th>0</th>\n",
       "      <td>GAHOn0yRQmSARotP8rNS2_ZdlXY</td>\n",
       "      <td>UgxY_z0f0WtfmarscaR4AaABAg</td>\n",
       "      <td>UgxY_z0f0WtfmarscaR4AaABAg</td>\n",
       "      <td>Honestly&lt;br&gt;What&amp;#39;s you guys problem&lt;br&gt;The...</td>\n",
       "      <td>Honestly\\r\\nWhat's you guys problem\\r\\nThey ad...</td>\n",
       "      <td>@Person-mr3cy</td>\n",
       "      <td>https://yt3.ggpht.com/d12LCwUgD7xIGr2hB_adl25F...</td>\n",
       "      <td>http://www.youtube.com/@Person-mr3cy</td>\n",
       "      <td>UCgDw1YWBh9Cn_v4WXBlIwNg</td>\n",
       "      <td>0</td>\n",
       "      <td>2024-06-24T08:34:32Z</td>\n",
       "      <td>2024-06-24T08:34:32Z</td>\n",
       "    </tr>\n",
       "    <tr>\n",
       "      <th>1</th>\n",
       "      <td>EaztDwMFUfjxWCBdC9EVBxpjLGk</td>\n",
       "      <td>Ugxor3ZZ9oZvnYl1GeJ4AaABAg</td>\n",
       "      <td>Ugxor3ZZ9oZvnYl1GeJ4AaABAg</td>\n",
       "      <td>全てこのゲームのお陰。&lt;br&gt;もうアサシンシリーズ卒業します。&lt;br&gt;今までありがとうござい...</td>\n",
       "      <td>全てこのゲームのお陰。\\r\\nもうアサシンシリーズ卒業します。\\r\\n今までありがとうござい...</td>\n",
       "      <td>@user-mw7li1co4d</td>\n",
       "      <td>https://yt3.ggpht.com/ytc/AIdro_laRl6quGL1gQNI...</td>\n",
       "      <td>http://www.youtube.com/@user-mw7li1co4d</td>\n",
       "      <td>UCwDZ4FRMVQHXtOKwPLaA4dQ</td>\n",
       "      <td>0</td>\n",
       "      <td>2024-06-24T07:37:14Z</td>\n",
       "      <td>2024-06-24T07:37:14Z</td>\n",
       "    </tr>\n",
       "    <tr>\n",
       "      <th>2</th>\n",
       "      <td>jR9p_eIpaDaSIAFsXSiR5jgp_34</td>\n",
       "      <td>UgyOk3DSzy0szL7akSl4AaABAg</td>\n",
       "      <td>UgyOk3DSzy0szL7akSl4AaABAg</td>\n",
       "      <td>日本の予約順位　&lt;br&gt;1位　ドラゴンクエスト  11/14&lt;br&gt;&lt;br&gt;21位　アサシン...</td>\n",
       "      <td>日本の予約順位　\\r\\n1位　ドラゴンクエスト  11/14\\r\\n\\r\\n21位　アサシン...</td>\n",
       "      <td>@user-gr7uh4vq2u</td>\n",
       "      <td>https://yt3.ggpht.com/ytc/AIdro_k5h6IwS5GKf8s3...</td>\n",
       "      <td>http://www.youtube.com/@user-gr7uh4vq2u</td>\n",
       "      <td>UC0vEqYguZqulaA-5tlsASFA</td>\n",
       "      <td>0</td>\n",
       "      <td>2024-06-24T06:05:42Z</td>\n",
       "      <td>2024-06-24T06:05:42Z</td>\n",
       "    </tr>\n",
       "    <tr>\n",
       "      <th>3</th>\n",
       "      <td>qWAW1h_vYkb9G1-qpGyJbUjis4s</td>\n",
       "      <td>UgwPUVw6DKtifRv6AjV4AaABAg</td>\n",
       "      <td>UgwPUVw6DKtifRv6AjV4AaABAg</td>\n",
       "      <td>I love how 90% of the comments from these “Jap...</td>\n",
       "      <td>I love how 90% of the comments from these “Jap...</td>\n",
       "      <td>@AndrewSelden</td>\n",
       "      <td>https://yt3.ggpht.com/ytc/AIdro_ka_OJb0XNJYDEo...</td>\n",
       "      <td>http://www.youtube.com/@AndrewSelden</td>\n",
       "      <td>UCizQwXVk57A4JS8Ns7EWujw</td>\n",
       "      <td>0</td>\n",
       "      <td>2024-06-24T04:55:58Z</td>\n",
       "      <td>2024-06-24T04:55:58Z</td>\n",
       "    </tr>\n",
       "    <tr>\n",
       "      <th>4</th>\n",
       "      <td>whl_8Cwc6cqZZLDBN_VylmPMFQg</td>\n",
       "      <td>UgwhD0JcKS1Jw83jCcB4AaABAg</td>\n",
       "      <td>UgwhD0JcKS1Jw83jCcB4AaABAg</td>\n",
       "      <td>Just look at the Female Assassin game-play? TH...</td>\n",
       "      <td>Just look at the Female Assassin game-play? TH...</td>\n",
       "      <td>@RawLu.</td>\n",
       "      <td>https://yt3.ggpht.com/ZD2h-nMNVQW9PAzU4WLWCtXe...</td>\n",
       "      <td>http://www.youtube.com/@RawLu.</td>\n",
       "      <td>UC_jS_pKSqzAfHW37Hj5HaQg</td>\n",
       "      <td>0</td>\n",
       "      <td>2024-06-24T01:57:45Z</td>\n",
       "      <td>2024-06-24T01:57:45Z</td>\n",
       "    </tr>\n",
       "  </tbody>\n",
       "</table>\n",
       "</div>"
      ],
      "text/plain": [
       "                          etag                    parentid  \\\n",
       "0  GAHOn0yRQmSARotP8rNS2_ZdlXY  UgxY_z0f0WtfmarscaR4AaABAg   \n",
       "1  EaztDwMFUfjxWCBdC9EVBxpjLGk  Ugxor3ZZ9oZvnYl1GeJ4AaABAg   \n",
       "2  jR9p_eIpaDaSIAFsXSiR5jgp_34  UgyOk3DSzy0szL7akSl4AaABAg   \n",
       "3  qWAW1h_vYkb9G1-qpGyJbUjis4s  UgwPUVw6DKtifRv6AjV4AaABAg   \n",
       "4  whl_8Cwc6cqZZLDBN_VylmPMFQg  UgwhD0JcKS1Jw83jCcB4AaABAg   \n",
       "\n",
       "                           id  \\\n",
       "0  UgxY_z0f0WtfmarscaR4AaABAg   \n",
       "1  Ugxor3ZZ9oZvnYl1GeJ4AaABAg   \n",
       "2  UgyOk3DSzy0szL7akSl4AaABAg   \n",
       "3  UgwPUVw6DKtifRv6AjV4AaABAg   \n",
       "4  UgwhD0JcKS1Jw83jCcB4AaABAg   \n",
       "\n",
       "                                         textDisplay  \\\n",
       "0  Honestly<br>What&#39;s you guys problem<br>The...   \n",
       "1  全てこのゲームのお陰。<br>もうアサシンシリーズ卒業します。<br>今までありがとうござい...   \n",
       "2  日本の予約順位　<br>1位　ドラゴンクエスト  11/14<br><br>21位　アサシン...   \n",
       "3  I love how 90% of the comments from these “Jap...   \n",
       "4  Just look at the Female Assassin game-play? TH...   \n",
       "\n",
       "                                        textOriginal authorDisplayName  \\\n",
       "0  Honestly\\r\\nWhat's you guys problem\\r\\nThey ad...     @Person-mr3cy   \n",
       "1  全てこのゲームのお陰。\\r\\nもうアサシンシリーズ卒業します。\\r\\n今までありがとうござい...  @user-mw7li1co4d   \n",
       "2  日本の予約順位　\\r\\n1位　ドラゴンクエスト  11/14\\r\\n\\r\\n21位　アサシン...  @user-gr7uh4vq2u   \n",
       "3  I love how 90% of the comments from these “Jap...     @AndrewSelden   \n",
       "4  Just look at the Female Assassin game-play? TH...           @RawLu.   \n",
       "\n",
       "                               authorProfileImageUrl  \\\n",
       "0  https://yt3.ggpht.com/d12LCwUgD7xIGr2hB_adl25F...   \n",
       "1  https://yt3.ggpht.com/ytc/AIdro_laRl6quGL1gQNI...   \n",
       "2  https://yt3.ggpht.com/ytc/AIdro_k5h6IwS5GKf8s3...   \n",
       "3  https://yt3.ggpht.com/ytc/AIdro_ka_OJb0XNJYDEo...   \n",
       "4  https://yt3.ggpht.com/ZD2h-nMNVQW9PAzU4WLWCtXe...   \n",
       "\n",
       "                          authorChannelUrl           authorChannelId  \\\n",
       "0     http://www.youtube.com/@Person-mr3cy  UCgDw1YWBh9Cn_v4WXBlIwNg   \n",
       "1  http://www.youtube.com/@user-mw7li1co4d  UCwDZ4FRMVQHXtOKwPLaA4dQ   \n",
       "2  http://www.youtube.com/@user-gr7uh4vq2u  UC0vEqYguZqulaA-5tlsASFA   \n",
       "3     http://www.youtube.com/@AndrewSelden  UCizQwXVk57A4JS8Ns7EWujw   \n",
       "4           http://www.youtube.com/@RawLu.  UC_jS_pKSqzAfHW37Hj5HaQg   \n",
       "\n",
       "   likeCount           publishedAt             updatedAt  \n",
       "0          0  2024-06-24T08:34:32Z  2024-06-24T08:34:32Z  \n",
       "1          0  2024-06-24T07:37:14Z  2024-06-24T07:37:14Z  \n",
       "2          0  2024-06-24T06:05:42Z  2024-06-24T06:05:42Z  \n",
       "3          0  2024-06-24T04:55:58Z  2024-06-24T04:55:58Z  \n",
       "4          0  2024-06-24T01:57:45Z  2024-06-24T01:57:45Z  "
      ]
     },
     "execution_count": 8,
     "metadata": {},
     "output_type": "execute_result"
    }
   ],
   "source": [
    "df.head()"
   ]
  },
  {
   "cell_type": "code",
   "execution_count": 9,
   "id": "981d04cb",
   "metadata": {},
   "outputs": [],
   "source": [
    "df = df[['textDisplay', 'textOriginal', 'authorDisplayName', 'likeCount', 'publishedAt']]"
   ]
  },
  {
   "cell_type": "code",
   "execution_count": 10,
   "id": "edc3aacb",
   "metadata": {},
   "outputs": [
    {
     "data": {
      "text/html": [
       "<div>\n",
       "<style scoped>\n",
       "    .dataframe tbody tr th:only-of-type {\n",
       "        vertical-align: middle;\n",
       "    }\n",
       "\n",
       "    .dataframe tbody tr th {\n",
       "        vertical-align: top;\n",
       "    }\n",
       "\n",
       "    .dataframe thead th {\n",
       "        text-align: right;\n",
       "    }\n",
       "</style>\n",
       "<table border=\"1\" class=\"dataframe\">\n",
       "  <thead>\n",
       "    <tr style=\"text-align: right;\">\n",
       "      <th></th>\n",
       "      <th>textDisplay</th>\n",
       "      <th>textOriginal</th>\n",
       "      <th>authorDisplayName</th>\n",
       "      <th>likeCount</th>\n",
       "      <th>publishedAt</th>\n",
       "    </tr>\n",
       "  </thead>\n",
       "  <tbody>\n",
       "    <tr>\n",
       "      <th>0</th>\n",
       "      <td>Honestly&lt;br&gt;What&amp;#39;s you guys problem&lt;br&gt;The...</td>\n",
       "      <td>Honestly\\r\\nWhat's you guys problem\\r\\nThey ad...</td>\n",
       "      <td>@Person-mr3cy</td>\n",
       "      <td>0</td>\n",
       "      <td>2024-06-24T08:34:32Z</td>\n",
       "    </tr>\n",
       "    <tr>\n",
       "      <th>1</th>\n",
       "      <td>全てこのゲームのお陰。&lt;br&gt;もうアサシンシリーズ卒業します。&lt;br&gt;今までありがとうござい...</td>\n",
       "      <td>全てこのゲームのお陰。\\r\\nもうアサシンシリーズ卒業します。\\r\\n今までありがとうござい...</td>\n",
       "      <td>@user-mw7li1co4d</td>\n",
       "      <td>0</td>\n",
       "      <td>2024-06-24T07:37:14Z</td>\n",
       "    </tr>\n",
       "    <tr>\n",
       "      <th>2</th>\n",
       "      <td>日本の予約順位　&lt;br&gt;1位　ドラゴンクエスト  11/14&lt;br&gt;&lt;br&gt;21位　アサシン...</td>\n",
       "      <td>日本の予約順位　\\r\\n1位　ドラゴンクエスト  11/14\\r\\n\\r\\n21位　アサシン...</td>\n",
       "      <td>@user-gr7uh4vq2u</td>\n",
       "      <td>0</td>\n",
       "      <td>2024-06-24T06:05:42Z</td>\n",
       "    </tr>\n",
       "    <tr>\n",
       "      <th>3</th>\n",
       "      <td>I love how 90% of the comments from these “Jap...</td>\n",
       "      <td>I love how 90% of the comments from these “Jap...</td>\n",
       "      <td>@AndrewSelden</td>\n",
       "      <td>0</td>\n",
       "      <td>2024-06-24T04:55:58Z</td>\n",
       "    </tr>\n",
       "    <tr>\n",
       "      <th>4</th>\n",
       "      <td>Just look at the Female Assassin game-play? TH...</td>\n",
       "      <td>Just look at the Female Assassin game-play? TH...</td>\n",
       "      <td>@RawLu.</td>\n",
       "      <td>0</td>\n",
       "      <td>2024-06-24T01:57:45Z</td>\n",
       "    </tr>\n",
       "  </tbody>\n",
       "</table>\n",
       "</div>"
      ],
      "text/plain": [
       "                                         textDisplay  \\\n",
       "0  Honestly<br>What&#39;s you guys problem<br>The...   \n",
       "1  全てこのゲームのお陰。<br>もうアサシンシリーズ卒業します。<br>今までありがとうござい...   \n",
       "2  日本の予約順位　<br>1位　ドラゴンクエスト  11/14<br><br>21位　アサシン...   \n",
       "3  I love how 90% of the comments from these “Jap...   \n",
       "4  Just look at the Female Assassin game-play? TH...   \n",
       "\n",
       "                                        textOriginal authorDisplayName  \\\n",
       "0  Honestly\\r\\nWhat's you guys problem\\r\\nThey ad...     @Person-mr3cy   \n",
       "1  全てこのゲームのお陰。\\r\\nもうアサシンシリーズ卒業します。\\r\\n今までありがとうござい...  @user-mw7li1co4d   \n",
       "2  日本の予約順位　\\r\\n1位　ドラゴンクエスト  11/14\\r\\n\\r\\n21位　アサシン...  @user-gr7uh4vq2u   \n",
       "3  I love how 90% of the comments from these “Jap...     @AndrewSelden   \n",
       "4  Just look at the Female Assassin game-play? TH...           @RawLu.   \n",
       "\n",
       "   likeCount           publishedAt  \n",
       "0          0  2024-06-24T08:34:32Z  \n",
       "1          0  2024-06-24T07:37:14Z  \n",
       "2          0  2024-06-24T06:05:42Z  \n",
       "3          0  2024-06-24T04:55:58Z  \n",
       "4          0  2024-06-24T01:57:45Z  "
      ]
     },
     "execution_count": 10,
     "metadata": {},
     "output_type": "execute_result"
    }
   ],
   "source": [
    "df.head()"
   ]
  },
  {
   "cell_type": "markdown",
   "id": "b0e0e651",
   "metadata": {},
   "source": [
    "### Date extraction"
   ]
  },
  {
   "cell_type": "code",
   "execution_count": 11,
   "id": "7daa5725",
   "metadata": {},
   "outputs": [],
   "source": [
    "df['publishedAt'] = pd.to_datetime(df['publishedAt'])"
   ]
  },
  {
   "cell_type": "code",
   "execution_count": 12,
   "id": "e606b3d1",
   "metadata": {},
   "outputs": [],
   "source": [
    "df['date'] = df['publishedAt'].dt.date"
   ]
  },
  {
   "cell_type": "code",
   "execution_count": 13,
   "id": "e894a5fe",
   "metadata": {},
   "outputs": [],
   "source": [
    "comment_counts = df['date'].value_counts().sort_index()"
   ]
  },
  {
   "cell_type": "code",
   "execution_count": 10,
   "id": "4ec5696e",
   "metadata": {},
   "outputs": [
    {
     "name": "stdout",
     "output_type": "stream",
     "text": [
      "date\n",
      "2024-06-10    637\n",
      "2024-06-11    627\n",
      "2024-06-12    296\n",
      "2024-06-13    179\n",
      "2024-06-14     67\n",
      "2024-06-15     31\n",
      "2024-06-16     82\n",
      "2024-06-17    134\n",
      "2024-06-18     82\n",
      "2024-06-19     47\n",
      "2024-06-20     47\n",
      "2024-06-21     36\n",
      "2024-06-22     31\n",
      "2024-06-23     66\n",
      "2024-06-24     69\n",
      "Name: count, dtype: int64\n"
     ]
    }
   ],
   "source": [
    "print(comment_counts)"
   ]
  },
  {
   "cell_type": "code",
   "execution_count": 14,
   "id": "c7e68d64",
   "metadata": {},
   "outputs": [
    {
     "data": {
      "image/png": "[encoded data removed]",
      "text/plain": [
       "<Figure size 1000x600 with 1 Axes>"
      ]
     },
     "metadata": {},
     "output_type": "display_data"
    }
   ],
   "source": [
    "plt.figure(figsize=(10, 6))\n",
    "comment_counts.plot(kind='bar', color='skyblue')\n",
    "plt.title('Number of Comments per Day')\n",
    "plt.xlabel('Date')\n",
    "plt.ylabel('Number of Comments')\n",
    "plt.xticks(rotation=45)\n",
    "plt.grid(axis='y')\n",
    "\n",
    "plt.tight_layout()\n",
    "plt.show()"
   ]
  },
  {
   "cell_type": "markdown",
   "id": "909c689d",
   "metadata": {},
   "source": [
    "The graph shows that the number of comments decreases over time. This is quite natural. </p> These comments seem normal enough. "
   ]
  },
  {
   "cell_type": "markdown",
   "id": "6677b389",
   "metadata": {},
   "source": [
    "### Data translation "
   ]
  },
  {
   "cell_type": "markdown",
   "id": "87f87df8",
   "metadata": {},
   "source": [
    "As we can see, the comments are written in different languages. Let's translate them into English"
   ]
  },
  {
   "cell_type": "code",
   "execution_count": 3,
   "id": "e85c6c45",
   "metadata": {},
   "outputs": [],
   "source": [
    "# Translate comments to English\n",
    "def translate_comment(text):\n",
    "    try:\n",
    "        return GoogleTranslator(source='auto', target='en').translate(text=text)\n",
    "    except Exception as e:\n",
    "        return text  # Return the original text if translation fails"
   ]
  },
  {
   "cell_type": "code",
   "execution_count": 4,
   "id": "0c0cbf0c",
   "metadata": {},
   "outputs": [
    {
     "ename": "NameError",
     "evalue": "name 'df' is not defined",
     "output_type": "error",
     "traceback": [
      "\u001b[1;31m---------------------------------------------------------------------------\u001b[0m",
      "\u001b[1;31mNameError\u001b[0m                                 Traceback (most recent call last)",
      "Cell \u001b[1;32mIn[4], line 1\u001b[0m\n\u001b[1;32m----> 1\u001b[0m df_test \u001b[38;5;241m=\u001b[39m \u001b[43mdf\u001b[49m\u001b[38;5;241m.\u001b[39mhead(\u001b[38;5;241m10\u001b[39m)\n",
      "\u001b[1;31mNameError\u001b[0m: name 'df' is not defined"
     ]
    }
   ],
   "source": [
    "df_test = df.head(10)"
   ]
  },
  {
   "cell_type": "code",
   "execution_count": 6,
   "id": "b43ac08a",
   "metadata": {},
   "outputs": [
    {
     "ename": "NameError",
     "evalue": "name 'df' is not defined",
     "output_type": "error",
     "traceback": [
      "\u001b[1;31m---------------------------------------------------------------------------\u001b[0m",
      "\u001b[1;31mNameError\u001b[0m                                 Traceback (most recent call last)",
      "Cell \u001b[1;32mIn[6], line 1\u001b[0m\n\u001b[1;32m----> 1\u001b[0m df[\u001b[38;5;124m'\u001b[39m\u001b[38;5;124mtextOriginalTranslated\u001b[39m\u001b[38;5;124m'\u001b[39m] \u001b[38;5;241m=\u001b[39m \u001b[43mdf\u001b[49m[\u001b[38;5;124m'\u001b[39m\u001b[38;5;124mtextOriginal\u001b[39m\u001b[38;5;124m'\u001b[39m]\u001b[38;5;241m.\u001b[39mastype(\u001b[38;5;28mstr\u001b[39m)\u001b[38;5;241m.\u001b[39mapply(translate_comment)\n",
      "\u001b[1;31mNameError\u001b[0m: name 'df' is not defined"
     ]
    }
   ],
   "source": [
    "df['textOriginalTranslated'] = df['textOriginal'].apply(translate_comment)"
   ]
  },
  {
   "cell_type": "code",
   "execution_count": null,
   "id": "915e3e8b",
   "metadata": {},
   "outputs": [],
   "source": [
    "df.to_csv('df_translated.csv', index=False)"
   ]
  },
  {
   "cell_type": "code",
   "execution_count": 5,
   "id": "6f524085",
   "metadata": {},
   "outputs": [],
   "source": [
    "df = pd.read_csv('df_translated.csv')"
   ]
  },
  {
   "cell_type": "code",
   "execution_count": 6,
   "id": "2cdd7ba9",
   "metadata": {},
   "outputs": [
    {
     "data": {
      "text/html": [
       "<div>\n",
       "<style scoped>\n",
       "    .dataframe tbody tr th:only-of-type {\n",
       "        vertical-align: middle;\n",
       "    }\n",
       "\n",
       "    .dataframe tbody tr th {\n",
       "        vertical-align: top;\n",
       "    }\n",
       "\n",
       "    .dataframe thead th {\n",
       "        text-align: right;\n",
       "    }\n",
       "</style>\n",
       "<table border=\"1\" class=\"dataframe\">\n",
       "  <thead>\n",
       "    <tr style=\"text-align: right;\">\n",
       "      <th></th>\n",
       "      <th>textDisplay</th>\n",
       "      <th>textOriginal</th>\n",
       "      <th>authorDisplayName</th>\n",
       "      <th>likeCount</th>\n",
       "      <th>publishedAt</th>\n",
       "      <th>date</th>\n",
       "      <th>textOriginalTranslated</th>\n",
       "    </tr>\n",
       "  </thead>\n",
       "  <tbody>\n",
       "    <tr>\n",
       "      <th>0</th>\n",
       "      <td>Honestly&lt;br&gt;What&amp;#39;s you guys problem&lt;br&gt;The...</td>\n",
       "      <td>Honestly\\r\\nWhat's you guys problem\\r\\nThey ad...</td>\n",
       "      <td>@Person-mr3cy</td>\n",
       "      <td>0</td>\n",
       "      <td>2024-06-24 08:34:32+00:00</td>\n",
       "      <td>2024-06-24</td>\n",
       "      <td>Honestly\\r\\nWhat's you guys problem\\r\\nThey ad...</td>\n",
       "    </tr>\n",
       "    <tr>\n",
       "      <th>1</th>\n",
       "      <td>全てこのゲームのお陰。&lt;br&gt;もうアサシンシリーズ卒業します。&lt;br&gt;今までありがとうござい...</td>\n",
       "      <td>全てこのゲームのお陰。\\r\\nもうアサシンシリーズ卒業します。\\r\\n今までありがとうござい...</td>\n",
       "      <td>@user-mw7li1co4d</td>\n",
       "      <td>0</td>\n",
       "      <td>2024-06-24 07:37:14+00:00</td>\n",
       "      <td>2024-06-24</td>\n",
       "      <td>It's all thanks to this game. \\nI'm graduating...</td>\n",
       "    </tr>\n",
       "    <tr>\n",
       "      <th>2</th>\n",
       "      <td>日本の予約順位　&lt;br&gt;1位　ドラゴンクエスト  11/14&lt;br&gt;&lt;br&gt;21位　アサシン...</td>\n",
       "      <td>日本の予約順位　\\r\\n1位　ドラゴンクエスト  11/14\\r\\n\\r\\n21位　アサシン...</td>\n",
       "      <td>@user-gr7uh4vq2u</td>\n",
       "      <td>0</td>\n",
       "      <td>2024-06-24 06:05:42+00:00</td>\n",
       "      <td>2024-06-24</td>\n",
       "      <td>Pre-order ranking in Japan \\n\\n1st place: Drag...</td>\n",
       "    </tr>\n",
       "    <tr>\n",
       "      <th>3</th>\n",
       "      <td>I love how 90% of the comments from these “Jap...</td>\n",
       "      <td>I love how 90% of the comments from these “Jap...</td>\n",
       "      <td>@AndrewSelden</td>\n",
       "      <td>0</td>\n",
       "      <td>2024-06-24 04:55:58+00:00</td>\n",
       "      <td>2024-06-24</td>\n",
       "      <td>I love how 90% of the comments from these “Jap...</td>\n",
       "    </tr>\n",
       "    <tr>\n",
       "      <th>4</th>\n",
       "      <td>Just look at the Female Assassin game-play? TH...</td>\n",
       "      <td>Just look at the Female Assassin game-play? TH...</td>\n",
       "      <td>@RawLu.</td>\n",
       "      <td>0</td>\n",
       "      <td>2024-06-24 01:57:45+00:00</td>\n",
       "      <td>2024-06-24</td>\n",
       "      <td>Just look at the Female Assassin game-play? TH...</td>\n",
       "    </tr>\n",
       "  </tbody>\n",
       "</table>\n",
       "</div>"
      ],
      "text/plain": [
       "                                         textDisplay  \\\n",
       "0  Honestly<br>What&#39;s you guys problem<br>The...   \n",
       "1  全てこのゲームのお陰。<br>もうアサシンシリーズ卒業します。<br>今までありがとうござい...   \n",
       "2  日本の予約順位　<br>1位　ドラゴンクエスト  11/14<br><br>21位　アサシン...   \n",
       "3  I love how 90% of the comments from these “Jap...   \n",
       "4  Just look at the Female Assassin game-play? TH...   \n",
       "\n",
       "                                        textOriginal authorDisplayName  \\\n",
       "0  Honestly\\r\\nWhat's you guys problem\\r\\nThey ad...     @Person-mr3cy   \n",
       "1  全てこのゲームのお陰。\\r\\nもうアサシンシリーズ卒業します。\\r\\n今までありがとうござい...  @user-mw7li1co4d   \n",
       "2  日本の予約順位　\\r\\n1位　ドラゴンクエスト  11/14\\r\\n\\r\\n21位　アサシン...  @user-gr7uh4vq2u   \n",
       "3  I love how 90% of the comments from these “Jap...     @AndrewSelden   \n",
       "4  Just look at the Female Assassin game-play? TH...           @RawLu.   \n",
       "\n",
       "   likeCount                publishedAt        date  \\\n",
       "0          0  2024-06-24 08:34:32+00:00  2024-06-24   \n",
       "1          0  2024-06-24 07:37:14+00:00  2024-06-24   \n",
       "2          0  2024-06-24 06:05:42+00:00  2024-06-24   \n",
       "3          0  2024-06-24 04:55:58+00:00  2024-06-24   \n",
       "4          0  2024-06-24 01:57:45+00:00  2024-06-24   \n",
       "\n",
       "                              textOriginalTranslated  \n",
       "0  Honestly\\r\\nWhat's you guys problem\\r\\nThey ad...  \n",
       "1  It's all thanks to this game. \\nI'm graduating...  \n",
       "2  Pre-order ranking in Japan \\n\\n1st place: Drag...  \n",
       "3  I love how 90% of the comments from these “Jap...  \n",
       "4  Just look at the Female Assassin game-play? TH...  "
      ]
     },
     "execution_count": 6,
     "metadata": {},
     "output_type": "execute_result"
    }
   ],
   "source": [
    "df.head()"
   ]
  },
  {
   "cell_type": "code",
   "execution_count": 11,
   "id": "cec449bd",
   "metadata": {},
   "outputs": [],
   "source": [
    "df['textOriginalTranslated'] = df['textOriginalTranslated'].str.replace(r'<br>|\\r|\\n', ' ', regex=True)"
   ]
  },
  {
   "cell_type": "code",
   "execution_count": 12,
   "id": "69e0fa8d",
   "metadata": {},
   "outputs": [
    {
     "data": {
      "text/plain": [
       "0    Honestly  What's you guys problem  They add de...\n",
       "1    It's all thanks to this game.  I'm graduating ...\n",
       "2    Pre-order ranking in Japan   1st place: Dragon...\n",
       "3    I love how 90% of the comments from these “Jap...\n",
       "4    Just look at the Female Assassin game-play? TH...\n",
       "Name: textOriginalTranslated, dtype: object"
      ]
     },
     "execution_count": 12,
     "metadata": {},
     "output_type": "execute_result"
    }
   ],
   "source": [
    "df['textOriginalTranslated'].head()"
   ]
  },
  {
   "cell_type": "markdown",
   "id": "40d1acba",
   "metadata": {},
   "source": [
    "Lower casing"
   ]
  },
  {
   "cell_type": "code",
   "execution_count": 13,
   "id": "3051b146",
   "metadata": {},
   "outputs": [],
   "source": [
    "df['textOriginalTranslated'] = df['textOriginalTranslated'].str.lower()"
   ]
  },
  {
   "cell_type": "markdown",
   "id": "99ef6b0b",
   "metadata": {},
   "source": [
    "Expand contractions"
   ]
  },
  {
   "cell_type": "code",
   "execution_count": 14,
   "id": "a8f54d07",
   "metadata": {},
   "outputs": [],
   "source": [
    "df['textOriginalTranslated'] = df['textOriginalTranslated'].astype(str).apply(\n",
    "    lambda x: \" \".join([contractions.fix(expanded_word) for expanded_word in x.split()]))"
   ]
  },
  {
   "cell_type": "markdown",
   "id": "bb5cca5b",
   "metadata": {},
   "source": [
    "Remove html tags"
   ]
  },
  {
   "cell_type": "code",
   "execution_count": 15,
   "id": "ed5fe903",
   "metadata": {},
   "outputs": [
    {
     "name": "stderr",
     "output_type": "stream",
     "text": [
      "C:\\Users\\nik-g\\AppData\\Local\\Temp\\ipykernel_5488\\663498864.py:1: MarkupResemblesLocatorWarning: The input looks more like a filename than markup. You may want to open this file and pass the filehandle into Beautiful Soup.\n",
      "  df['textOriginalTranslated'] = df['textOriginalTranslated'].astype(str).apply(lambda x: BeautifulSoup(x, 'html.parser').get_text())\n",
      "C:\\Users\\nik-g\\AppData\\Local\\Temp\\ipykernel_5488\\663498864.py:1: MarkupResemblesLocatorWarning: The input looks more like a URL than markup. You may want to use an HTTP client like requests to get the document behind the URL, and feed that document to Beautiful Soup.\n",
      "  df['textOriginalTranslated'] = df['textOriginalTranslated'].astype(str).apply(lambda x: BeautifulSoup(x, 'html.parser').get_text())\n"
     ]
    }
   ],
   "source": [
    "df['textOriginalTranslated'] = df['textOriginalTranslated'].astype(str).apply(lambda x: BeautifulSoup(x, 'html.parser').get_text())"
   ]
  },
  {
   "cell_type": "code",
   "execution_count": 16,
   "id": "c5e9f3aa",
   "metadata": {},
   "outputs": [
    {
     "name": "stdout",
     "output_type": "stream",
     "text": [
      "0       honestly what is you guys problem they add dem...\n",
      "1       it is all thanks to this game. i am graduating...\n",
      "2       pre-order ranking in japan 1st place: dragon q...\n",
      "3       i love how 90% of the comments from these “jap...\n",
      "4       just look at the female assassin game-play? th...\n",
      "                              ...                        \n",
      "2426    @@adam-xe1od \"get good\" when the ai detection ...\n",
      "2427          @@jojo-nq3bp proving my point, get good🤷‍♂️\n",
      "2428        why do nagas take pleasure in killing asians?\n",
      "2429                           ​@@adam-xe1oduseless troll\n",
      "2430    @the_seer_0421 not a troll, you just cannot fa...\n",
      "Name: textOriginalTranslated, Length: 2431, dtype: object\n"
     ]
    }
   ],
   "source": [
    "print(df['textOriginalTranslated'])"
   ]
  },
  {
   "cell_type": "markdown",
   "id": "a8bf3bd3",
   "metadata": {},
   "source": [
    "Remove numbers"
   ]
  },
  {
   "cell_type": "code",
   "execution_count": 17,
   "id": "b79e1039",
   "metadata": {},
   "outputs": [],
   "source": [
    "df['textOriginalTranslated'] = df['textOriginalTranslated'].apply(lambda x: re.sub(r'\\d+', '', x))"
   ]
  },
  {
   "cell_type": "markdown",
   "id": "a87c569c",
   "metadata": {},
   "source": [
    "Replace dots with spaces"
   ]
  },
  {
   "cell_type": "code",
   "execution_count": 18,
   "id": "69ce9aee",
   "metadata": {},
   "outputs": [],
   "source": [
    "df['textOriginalTranslated'] = df['textOriginalTranslated'].apply(lambda x: re.sub(\"[.]\", \" \", x))"
   ]
  },
  {
   "cell_type": "markdown",
   "id": "32768531",
   "metadata": {},
   "source": [
    "Remove punctuations"
   ]
  },
  {
   "cell_type": "code",
   "execution_count": 19,
   "id": "f9ea14b7",
   "metadata": {},
   "outputs": [],
   "source": [
    "df['textOriginalTranslated'] = df['textOriginalTranslated'].apply(lambda x: re.sub('[%s]' % re.escape(string.punctuation), '' , x))"
   ]
  },
  {
   "cell_type": "markdown",
   "id": "269f425b",
   "metadata": {},
   "source": [
    "Get rid of double spaces"
   ]
  },
  {
   "cell_type": "code",
   "execution_count": 20,
   "id": "45af64f2",
   "metadata": {},
   "outputs": [],
   "source": [
    "df['textOriginalTranslated'] = df['textOriginalTranslated'].apply(lambda x: re.sub(' +', ' ', x))"
   ]
  },
  {
   "cell_type": "markdown",
   "id": "9e1a099f",
   "metadata": {},
   "source": [
    "Replace diacritics"
   ]
  },
  {
   "cell_type": "code",
   "execution_count": 21,
   "id": "d53deef8",
   "metadata": {},
   "outputs": [],
   "source": [
    "df['textOriginalTranslated'] = df['textOriginalTranslated'].apply(lambda x: unidecode(x, errors=\"preserve\"))"
   ]
  },
  {
   "cell_type": "markdown",
   "id": "dc17db63",
   "metadata": {},
   "source": [
    "Remove Stopwords"
   ]
  },
  {
   "cell_type": "code",
   "execution_count": 22,
   "id": "258e2d70",
   "metadata": {},
   "outputs": [
    {
     "name": "stderr",
     "output_type": "stream",
     "text": [
      "[nltk_data] Downloading package stopwords to\n",
      "[nltk_data]     C:\\Users\\nik-g\\AppData\\Roaming\\nltk_data...\n",
      "[nltk_data]   Package stopwords is already up-to-date!\n"
     ]
    }
   ],
   "source": [
    "nltk.download(\"stopwords\")\n",
    "sw_nltk = stopwords.words('english')\n",
    "# stopwords customaization: Add custom stopwords\n",
    "new_stopwords = ['cowboy']\n",
    "sw_nltk.extend(new_stopwords)\n",
    "# stopwords customaization: Remove already existing stopwords\n",
    "sw_nltk.remove('not')\n",
    "text_col = df['textOriginalTranslated'].apply(\n",
    "    lambda x: \" \".join([ word for word in x.split() if word not in sw_nltk]) )"
   ]
  },
  {
   "cell_type": "markdown",
   "id": "4317038c",
   "metadata": {},
   "source": [
    "Lemmatization"
   ]
  },
  {
   "cell_type": "code",
   "execution_count": 23,
   "id": "9705fcf8",
   "metadata": {},
   "outputs": [],
   "source": [
    "lemmatizer = WordNetLemmatizer()\n",
    "df['textOriginalTranslated'] = df['textOriginalTranslated'].apply(lambda x: lemmatizer.lemmatize(x))"
   ]
  },
  {
   "cell_type": "code",
   "execution_count": 24,
   "id": "c2eab781",
   "metadata": {},
   "outputs": [
    {
     "name": "stderr",
     "output_type": "stream",
     "text": [
      "c:\\Users\\nik-g\\AppData\\Local\\Programs\\Python\\Python39\\lib\\site-packages\\tqdm\\auto.py:21: TqdmWarning: IProgress not found. Please update jupyter and ipywidgets. See https://ipywidgets.readthedocs.io/en/stable/user_install.html\n",
      "  from .autonotebook import tqdm as notebook_tqdm\n"
     ]
    }
   ],
   "source": [
    "import torch\n",
    "import transformers\n",
    "from transformers import (BertTokenizer,  # For BERT tokenizer\n",
    "    AutoTokenizer,  # For automatic selection of tokenizer\n",
    "    BertForSequenceClassification,  # For BERT-based sequence classification model\n",
    "    AdamW,  # For AdamW optimizer\n",
    "    get_linear_schedule_with_warmup)  # For learning rate scheduling\n",
    "\n",
    "# Importing necessary classes from torch.utils.data for handling datasets\n",
    "from torch.utils.data import (TensorDataset, DataLoader, \n",
    "                              RandomSampler, SequentialSampler)"
   ]
  },
  {
   "cell_type": "code",
   "execution_count": 29,
   "id": "c6f7a4c8",
   "metadata": {},
   "outputs": [
    {
     "data": {
      "text/plain": [
       "0     honestly what is you guys problem they add dem...\n",
       "1     it is all thanks to this game i am graduating ...\n",
       "2     preorder ranking in japan st place dragon ques...\n",
       "3     i love how of the comments from these \"japanes...\n",
       "4     just look at the female assassin gameplay that...\n",
       "                            ...                        \n",
       "95    ubi is a terrible company discriminating again...\n",
       "96    i am fed up with the for honor gameplay it is ...\n",
       "97    this is already a high level of racism towards...\n",
       "98                                      no more ubisoft\n",
       "99    this game needs to be handed over to a japanes...\n",
       "Name: textOriginalTranslated, Length: 100, dtype: object"
      ]
     },
     "execution_count": 29,
     "metadata": {},
     "output_type": "execute_result"
    }
   ],
   "source": [
    "df['textOriginalTranslated'].head(100)"
   ]
  },
  {
   "cell_type": "code",
   "execution_count": 26,
   "id": "4b473a9b",
   "metadata": {},
   "outputs": [],
   "source": [
    "# Join the different processed titles together.\n",
    "long_string = ','.join(list(df['textOriginalTranslated'].values))"
   ]
  },
  {
   "cell_type": "code",
   "execution_count": 27,
   "id": "3b88b68f",
   "metadata": {},
   "outputs": [
    {
     "data": {
      "image/jpeg": "[encoded data removed]",
      "image/png": "[encoded data removed]",
      "text/plain": [
       "<PIL.Image.Image image mode=RGB size=400x200>"
      ]
     },
     "execution_count": 27,
     "metadata": {},
     "output_type": "execute_result"
    }
   ],
   "source": [
    "wordcloud = WordCloud(background_color=\"white\", max_words=5000, contour_width=3, contour_color='steelblue')\n",
    "# Generate a word cloud\n",
    "wordcloud.generate(long_string)\n",
    "# Visualize the word cloud\n",
    "wordcloud.to_image()"
   ]
  },
  {
   "cell_type": "markdown",
   "id": "27a13593",
   "metadata": {},
   "source": [
    "Sentiment analysis"
   ]
  },
  {
   "cell_type": "code",
   "execution_count": 30,
   "id": "955987e3",
   "metadata": {},
   "outputs": [
    {
     "name": "stderr",
     "output_type": "stream",
     "text": [
      "[nltk_data] Downloading package vader_lexicon to\n",
      "[nltk_data]     C:\\Users\\nik-g\\AppData\\Roaming\\nltk_data...\n",
      "[nltk_data]   Package vader_lexicon is already up-to-date!\n"
     ]
    },
    {
     "name": "stdout",
     "output_type": "stream",
     "text": [
      "                                            textDisplay  \\\n",
      "0     Honestly<br>What&#39;s you guys problem<br>The...   \n",
      "1     全てこのゲームのお陰。<br>もうアサシンシリーズ卒業します。<br>今までありがとうござい...   \n",
      "2     日本の予約順位　<br>1位　ドラゴンクエスト  11/14<br><br>21位　アサシン...   \n",
      "3     I love how 90% of the comments from these “Jap...   \n",
      "4     Just look at the Female Assassin game-play? TH...   \n",
      "...                                                 ...   \n",
      "2426  @@Adam-xe1od &quot;get good&quot; when the ai ...   \n",
      "2427        @@Jojo-nq3bp Proving my point, get good🤷‍♂️   \n",
      "2428      Why do Nagas take pleasure in killing Asians?   \n",
      "2429                         ​@@Adam-xe1oduseless troll   \n",
      "2430  @the_seer_0421  Not a troll, you just can&#39;...   \n",
      "\n",
      "                                           textOriginal  authorDisplayName  \\\n",
      "0     Honestly\\r\\nWhat's you guys problem\\r\\nThey ad...      @Person-mr3cy   \n",
      "1     全てこのゲームのお陰。\\r\\nもうアサシンシリーズ卒業します。\\r\\n今までありがとうござい...   @user-mw7li1co4d   \n",
      "2     日本の予約順位　\\r\\n1位　ドラゴンクエスト  11/14\\r\\n\\r\\n21位　アサシン...   @user-gr7uh4vq2u   \n",
      "3     I love how 90% of the comments from these “Jap...      @AndrewSelden   \n",
      "4     Just look at the Female Assassin game-play? TH...            @RawLu.   \n",
      "...                                                 ...                ...   \n",
      "2426  @@Adam-xe1od \"get good\" when the ai detection ...        @Jojo-nq3bp   \n",
      "2427        @@Jojo-nq3bp Proving my point, get good🤷‍♂️        @Adam-xe1od   \n",
      "2428      Why do Nagas take pleasure in killing Asians?  @sen-jingflagburn   \n",
      "2429                         ​@@Adam-xe1oduseless troll     @the_seer_0421   \n",
      "2430  @the_seer_0421  Not a troll, you just can't fa...        @Adam-xe1od   \n",
      "\n",
      "      likeCount                publishedAt        date  \\\n",
      "0             0  2024-06-24 08:34:32+00:00  2024-06-24   \n",
      "1             0  2024-06-24 07:37:14+00:00  2024-06-24   \n",
      "2             0  2024-06-24 06:05:42+00:00  2024-06-24   \n",
      "3             0  2024-06-24 04:55:58+00:00  2024-06-24   \n",
      "4             0  2024-06-24 01:57:45+00:00  2024-06-24   \n",
      "...         ...                        ...         ...   \n",
      "2426          0  2024-06-11 14:07:29+00:00  2024-06-11   \n",
      "2427          1  2024-06-11 14:25:28+00:00  2024-06-11   \n",
      "2428          0  2024-06-11 18:21:30+00:00  2024-06-11   \n",
      "2429          0  2024-06-12 10:43:37+00:00  2024-06-12   \n",
      "2430          1  2024-06-12 11:48:05+00:00  2024-06-12   \n",
      "\n",
      "                                 textOriginalTranslated  \\\n",
      "0     honestly what is you guys problem they add dem...   \n",
      "1     it is all thanks to this game i am graduating ...   \n",
      "2     preorder ranking in japan st place dragon ques...   \n",
      "3     i love how of the comments from these \"japanes...   \n",
      "4     just look at the female assassin gameplay that...   \n",
      "...                                                 ...   \n",
      "2426  adamxeod get good when the ai detection was eg...   \n",
      "2427               jojonqbp proving my point get good🤷️   \n",
      "2428       why do nagas take pleasure in killing asians   \n",
      "2429                              adamxeoduseless troll   \n",
      "2430  theseer not a troll you just cannot face being...   \n",
      "\n",
      "                                       sentiment_scores  \n",
      "0     {'neg': 0.121, 'neu': 0.58, 'pos': 0.299, 'com...  \n",
      "1     {'neg': 0.041, 'neu': 0.748, 'pos': 0.211, 'co...  \n",
      "2     {'neg': 0.0, 'neu': 1.0, 'pos': 0.0, 'compound...  \n",
      "3     {'neg': 0.0, 'neu': 0.724, 'pos': 0.276, 'comp...  \n",
      "4     {'neg': 0.112, 'neu': 0.888, 'pos': 0.0, 'comp...  \n",
      "...                                                 ...  \n",
      "2426  {'neg': 0.195, 'neu': 0.671, 'pos': 0.134, 'co...  \n",
      "2427  {'neg': 0.0, 'neu': 1.0, 'pos': 0.0, 'compound...  \n",
      "2428  {'neg': 0.312, 'neu': 0.426, 'pos': 0.262, 'co...  \n",
      "2429  {'neg': 0.0, 'neu': 1.0, 'pos': 0.0, 'compound...  \n",
      "2430  {'neg': 0.0, 'neu': 1.0, 'pos': 0.0, 'compound...  \n",
      "\n",
      "[2431 rows x 8 columns]\n"
     ]
    }
   ],
   "source": [
    "import nltk\n",
    "from nltk.sentiment.vader import SentimentIntensityAnalyzer\n",
    "import pandas as pd\n",
    "\n",
    "# Download the VADER lexicon\n",
    "nltk.download('vader_lexicon')\n",
    "\n",
    "# Initialize the SentimentIntensityAnalyzer\n",
    "analyzer = SentimentIntensityAnalyzer()\n",
    "\n",
    "# Function to analyze sentiment\n",
    "def analyze_sentiment(text):\n",
    "    return analyzer.polarity_scores(text)\n",
    "\n",
    "# Apply the sentiment analysis to each entry in 'textOriginalTranslated'\n",
    "df['sentiment_scores'] = df['textOriginalTranslated'].apply(analyze_sentiment)\n",
    "\n",
    "# Print the DataFrame with the sentiment scores\n",
    "print(df)"
   ]
  },
  {
   "cell_type": "markdown",
   "id": "f70fc820",
   "metadata": {},
   "source": [
    "Function to classify sentiment based on compound score"
   ]
  },
  {
   "cell_type": "code",
   "execution_count": 31,
   "id": "1d0c9b5e",
   "metadata": {},
   "outputs": [
    {
     "name": "stdout",
     "output_type": "stream",
     "text": [
      "sentiment\n",
      "positive    1015\n",
      "negative     901\n",
      "neutral      515\n",
      "Name: count, dtype: int64\n"
     ]
    }
   ],
   "source": [
    "def classify_sentiment(scores):\n",
    "    compound = scores['compound']\n",
    "    if compound <= -0.05:\n",
    "        return 'negative'\n",
    "    elif compound >= 0.05:\n",
    "        return 'positive'\n",
    "    else:\n",
    "        return 'neutral'\n",
    "\n",
    "# Apply classification to each sentiment score\n",
    "df['sentiment'] = df['sentiment_scores'].apply(classify_sentiment)\n",
    "\n",
    "# Calculate statistics\n",
    "sentiment_counts = df['sentiment'].value_counts()\n",
    "\n",
    "# Print the sentiment statistics\n",
    "print(sentiment_counts)"
   ]
  },
  {
   "cell_type": "code",
   "execution_count": 32,
   "id": "05cc183c",
   "metadata": {},
   "outputs": [
    {
     "data": {
      "image/png": "[encoded data removed]",
      "text/plain": [
       "<Figure size 640x480 with 1 Axes>"
      ]
     },
     "metadata": {},
     "output_type": "display_data"
    }
   ],
   "source": [
    "sentiment_counts.plot(kind='bar', color=['red', 'blue', 'green'])\n",
    "plt.title('Sentiment Analysis Counts')\n",
    "plt.xlabel('Sentiment')\n",
    "plt.ylabel('Number of Reviews')\n",
    "plt.show()"
   ]
  }
 ],
 "metadata": {
  "kernelspec": {
   "display_name": "Python 3 (ipykernel)",
   "language": "python",
   "name": "python3"
  },
  "language_info": {
   "codemirror_mode": {
    "name": "ipython",
    "version": 3
   },
   "file_extension": ".py",
   "mimetype": "text/x-python",
   "name": "python",
   "nbconvert_exporter": "python",
   "pygments_lexer": "ipython3",
   "version": "3.9.13"
  }
 },
 "nbformat": 4,
 "nbformat_minor": 5
}
